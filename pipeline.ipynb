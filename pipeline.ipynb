{
 "cells": [
  {
   "cell_type": "markdown",
   "metadata": {},
   "source": [
    "Ce fichier récupère les données depuis le github de JeffSackmann et les importe"
   ]
  },
  {
   "cell_type": "code",
   "execution_count": 1,
   "metadata": {},
   "outputs": [
    {
     "name": "stdout",
     "output_type": "stream",
     "text": [
      "Téléchargement de https://raw.githubusercontent.com/JeffSackmann/tennis_atp/master/atp_matches_2010.csv...\n",
      "Téléchargement de https://raw.githubusercontent.com/JeffSackmann/tennis_atp/master/atp_matches_2011.csv...\n",
      "Téléchargement de https://raw.githubusercontent.com/JeffSackmann/tennis_atp/master/atp_matches_2012.csv...\n",
      "Téléchargement de https://raw.githubusercontent.com/JeffSackmann/tennis_atp/master/atp_matches_2013.csv...\n",
      "Téléchargement de https://raw.githubusercontent.com/JeffSackmann/tennis_atp/master/atp_matches_2014.csv...\n",
      "Téléchargement de https://raw.githubusercontent.com/JeffSackmann/tennis_atp/master/atp_matches_2015.csv...\n",
      "Téléchargement de https://raw.githubusercontent.com/JeffSackmann/tennis_atp/master/atp_matches_2016.csv...\n",
      "Téléchargement de https://raw.githubusercontent.com/JeffSackmann/tennis_atp/master/atp_matches_2017.csv...\n",
      "Téléchargement de https://raw.githubusercontent.com/JeffSackmann/tennis_atp/master/atp_matches_2018.csv...\n",
      "Téléchargement de https://raw.githubusercontent.com/JeffSackmann/tennis_atp/master/atp_matches_2019.csv...\n",
      "Téléchargement de https://raw.githubusercontent.com/JeffSackmann/tennis_atp/master/atp_matches_2020.csv...\n",
      "Téléchargement de https://raw.githubusercontent.com/JeffSackmann/tennis_atp/master/atp_matches_2021.csv...\n",
      "Téléchargement de https://raw.githubusercontent.com/JeffSackmann/tennis_atp/master/atp_matches_2022.csv...\n",
      "Téléchargement de https://raw.githubusercontent.com/JeffSackmann/tennis_atp/master/atp_matches_2023.csv...\n",
      "Téléchargement de https://raw.githubusercontent.com/JeffSackmann/tennis_atp/master/atp_matches_2024.csv...\n",
      "Fichier raw_data_concat.csv enregistré avec succès !\n"
     ]
    }
   ],
   "source": [
    "import pandas as pd\n",
    "import requests\n",
    "from io import StringIO\n",
    "\n",
    "def download_csv(url):\n",
    "    \"\"\"Télécharge un fichier CSV depuis une URL et retourne un DataFrame.\"\"\"\n",
    "    response = requests.get(url)\n",
    "    if response.status_code == 200:\n",
    "        csv_data = StringIO(response.text)\n",
    "        return pd.read_csv(csv_data)\n",
    "    else:\n",
    "        print(f\"Échec du téléchargement : {url}\")\n",
    "        return None\n",
    "\n",
    "def main():\n",
    "    base_url = \"https://raw.githubusercontent.com/JeffSackmann/tennis_atp/master/atp_matches_{}.csv\"\n",
    "    years = range(2010, 2025)\n",
    "    \n",
    "    df_list = []\n",
    "    for year in years:\n",
    "        url = base_url.format(year)\n",
    "        print(f\"Téléchargement de {url}...\")\n",
    "        df = download_csv(url)\n",
    "        if df is not None:\n",
    "            df_list.append(df)\n",
    "    \n",
    "    if df_list:\n",
    "        final_df = pd.concat(df_list, ignore_index=True)\n",
    "        final_df.to_csv(\"raw_data_concat.csv\", index=False)\n",
    "        print(\"Fichier raw_data_concat.csv enregistré avec succès !\")\n",
    "    else:\n",
    "        print(\"Aucun fichier n'a été concaténé.\")\n",
    "\n",
    "if __name__ == \"__main__\":\n",
    "    main()\n"
   ]
  }
 ],
 "metadata": {
  "language_info": {
   "name": "python"
  }
 },
 "nbformat": 4,
 "nbformat_minor": 2
}
