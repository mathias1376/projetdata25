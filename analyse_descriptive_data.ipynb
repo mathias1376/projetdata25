{
 "cells": [
  {
   "cell_type": "code",
   "execution_count": 3,
   "metadata": {},
   "outputs": [
    {
     "name": "stdout",
     "output_type": "stream",
     "text": [
      "Informations générales sur la base de données:\n",
      "Nombre total de lignes (matchs): 2986\n",
      "Nombre total de colonnes (variables): 49\n",
      "Période couverte: 2023 à 2023\n",
      "\n",
      "Familles de variables:\n",
      "Identifiants de tournoi: ['tourney_id', 'tourney_name', 'tourney_level', 'tourney_date']\n",
      "Informations sur les matchs: ['surface', 'draw_size', 'match_num', 'round', 'score', 'best_of', 'minutes']\n",
      "Statistiques des joueurs: ['winner_id', 'winner_seed', 'winner_entry', 'winner_name', 'winner_hand', 'winner_ht', 'winner_ioc', 'winner_age', 'loser_id', 'loser_seed', 'loser_entry', 'loser_name', 'loser_hand', 'loser_ht', 'loser_ioc', 'loser_age']\n",
      "Statistiques de performance: ['w_ace', 'w_df', 'w_svpt', 'w_1stIn', 'w_1stWon', 'w_2ndWon', 'w_SvGms', 'w_bpSaved', 'w_bpFaced', 'l_ace', 'l_df', 'l_svpt', 'l_1stIn', 'l_1stWon', 'l_2ndWon', 'l_SvGms', 'l_bpSaved', 'l_bpFaced']\n",
      "Classements: ['winner_rank', 'winner_rank_points', 'loser_rank', 'loser_rank_points']\n"
     ]
    }
   ],
   "source": [
    "# Importation des bibliothèques nécessaires\n",
    "import pandas as pd\n",
    "\n",
    "# Chargement des données\n",
    "data = pd.read_csv('atp_matches_2023.csv')\n",
    "\n",
    "# Affichage des informations générales sur la base de données\n",
    "def print_general_info(data):\n",
    "    print(\"Informations générales sur la base de données:\")\n",
    "    print(f\"Nombre total de lignes (matchs): {data.shape[0]}\")\n",
    "    print(f\"Nombre total de colonnes (variables): {data.shape[1]}\")\n",
    "    print(f\"Période couverte: {pd.to_datetime(data['tourney_date'], format='%Y%m%d').min().year} à {pd.to_datetime(data['tourney_date'], format='%Y%m%d').max().year}\")\n",
    "\n",
    "# Affichage des familles de variables\n",
    "def print_variable_families():\n",
    "    print(\"\\nFamilles de variables:\")\n",
    "    print(\"Identifiants de tournoi: ['tourney_id', 'tourney_name', 'tourney_level', 'tourney_date']\")\n",
    "    print(\"Informations sur les matchs: ['surface', 'draw_size', 'match_num', 'round', 'score', 'best_of', 'minutes']\")\n",
    "    print(\"Statistiques des joueurs: ['winner_id', 'winner_seed', 'winner_entry', 'winner_name', 'winner_hand', 'winner_ht', 'winner_ioc', 'winner_age', 'loser_id', 'loser_seed', 'loser_entry', 'loser_name', 'loser_hand', 'loser_ht', 'loser_ioc', 'loser_age']\")\n",
    "    print(\"Statistiques de performance: ['w_ace', 'w_df', 'w_svpt', 'w_1stIn', 'w_1stWon', 'w_2ndWon', 'w_SvGms', 'w_bpSaved', 'w_bpFaced', 'l_ace', 'l_df', 'l_svpt', 'l_1stIn', 'l_1stWon', 'l_2ndWon', 'l_SvGms', 'l_bpSaved', 'l_bpFaced']\")\n",
    "    print(\"Classements: ['winner_rank', 'winner_rank_points', 'loser_rank', 'loser_rank_points']\")\n",
    "\n",
    "# Exécution des fonctions pour afficher les informations\n",
    "print_general_info(data)\n",
    "print_variable_families()\n"
   ]
  },
  {
   "cell_type": "markdown",
   "metadata": {},
   "source": [
    "# Analyse des Données de Matchs de Tennis 2023\n",
    "\n",
    "## Informations Générales sur la Base de Données\n",
    "Cette base de données contient des informations détaillées sur les matchs de tennis de l'année 2023, y compris des détails sur les tournois, les matchs, les joueurs, et leurs performances.\n",
    "\n",
    "## Familles de Variables\n",
    "\n",
    "### Identifiants de Tournoi\n",
    "- **`tourney_id`** : Identifiant unique pour chaque tournoi.\n",
    "- **`tourney_name`** : Nom du tournoi.\n",
    "- **`tourney_level`** : Niveau du tournoi (ex: Grand Chelem, ATP 250).\n",
    "- **`tourney_date`** : Date du début du tournoi.\n",
    "\n",
    "### Informations sur les Matchs\n",
    "- **`surface`** : Type de surface (terre battue, gazon, dur).\n",
    "- **`draw_size`** : Taille du tableau principal du tournoi.\n",
    "- **`match_num`** : Numéro séquentiel du match dans le tournoi.\n",
    "- **`round`** : Phase du tournoi (finale, demi-finale, etc.).\n",
    "- **`score`** : Score final du match.\n",
    "- **`best_of`** : Nombre maximal de sets joués (3 ou 5).\n",
    "- **`minutes`** : Durée du match en minutes.\n",
    "\n",
    "### Statistiques des Joueurs\n",
    "- **`winner_id`, `loser_id`** : Identifiants des joueurs.\n",
    "- **`winner_seed`, `loser_seed`** : Classement des joueurs dans le tournoi.\n",
    "- **`winner_entry`, `loser_entry`** : Mode d'entrée dans le tournoi (ex: wildcard).\n",
    "- **`winner_name`, `loser_name`** : Noms des joueurs.\n",
    "- **`winner_hand`, `loser_hand`** : Main dominante (Droitier, Gaucher).\n",
    "- **`winner_ht`, `loser_ht`** : Taille des joueurs.\n",
    "- **`winner_ioc`, `loser_ioc`** : Code pays des joueurs.\n",
    "- **`winner_age`, `loser_age`** : Âge des joueurs.\n",
    "\n",
    "### Statistiques de Performance\n",
    "- **`w_ace`, `l_ace`** : Aces réalisés par le gagnant et le perdant.\n",
    "- **`w_df`, `l_df`** : Doubles fautes du gagnant et du perdant.\n",
    "- **`w_svpt`, `l_svpt`** : Points joués au service par le gagnant et le perdant.\n",
    "- **`w_1stIn`, `l_1stIn`** : Premières balles réussies.\n",
    "- **`w_1stWon`, `l_1stWon`** : Points gagnés sur première balle.\n",
    "- **`w_2ndWon`, `l_2ndWon`** : Points gagnés sur seconde balle.\n",
    "- **`w_SvGms`, `l_SvGms`** : Jeux de service joués.\n",
    "- **`w_bpSaved`, `l_bpSaved`** : Balles de break sauvées.\n",
    "- **`w_bpFaced`, `l_bpFaced`** : Balles de break affrontées.\n",
    "\n",
    "### Classements\n",
    "- **`winner_rank`, `loser_rank`** : Classement ATP du gagnant et du perdant.\n",
    "- **`winner_rank_points`, `loser_rank_points`** : Points ATP du gagnant et du perdant.\n",
    "\n"
   ]
  }
 ],
 "metadata": {
  "kernelspec": {
   "display_name": "Python 3",
   "language": "python",
   "name": "python3"
  },
  "language_info": {
   "codemirror_mode": {
    "name": "ipython",
    "version": 3
   },
   "file_extension": ".py",
   "mimetype": "text/x-python",
   "name": "python",
   "nbconvert_exporter": "python",
   "pygments_lexer": "ipython3",
   "version": "3.9.6"
  }
 },
 "nbformat": 4,
 "nbformat_minor": 2
}
